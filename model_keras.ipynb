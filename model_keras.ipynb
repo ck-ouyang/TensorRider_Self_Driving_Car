{
 "cells": [
  {
   "cell_type": "code",
   "execution_count": 1,
   "metadata": {},
   "outputs": [
    {
     "name": "stderr",
     "output_type": "stream",
     "text": [
      "/Users/matthew/anaconda3/envs/tensorflow/lib/python3.5/importlib/_bootstrap.py:222: RuntimeWarning: compiletime version 3.6 of module 'tensorflow.python.framework.fast_tensor_util' does not match runtime version 3.5\n",
      "  return f(*args, **kwds)\n",
      "Using TensorFlow backend.\n"
     ]
    }
   ],
   "source": [
    "import numpy as np\n",
    "import tensorflow as tf\n",
    "import keras\n",
    "from keras.datasets import mnist\n",
    "from keras.models import Model\n",
    "from keras.layers import Input, Dense, Dropout, Flatten, Activation\n",
    "from keras.layers import Conv2D, MaxPooling2D\n",
    "from keras import backend as K\n",
    "from matplotlib import pyplot as plt\n",
    "from keras.models import model_from_json\n",
    "from keras.utils import plot_model\n",
    "\n",
    "from IPython.display import SVG\n",
    "from keras.utils.vis_utils import model_to_dot"
   ]
  },
  {
   "cell_type": "markdown",
   "metadata": {},
   "source": [
    "## Define the image preprocessing methods"
   ]
  },
  {
   "cell_type": "code",
   "execution_count": null,
   "metadata": {},
   "outputs": [],
   "source": [
    "def preprocess(rgb):\n",
    "#     r, g, b = rgb[:,:,0], rgb[:,:,1], rgb[:,:,2]\n",
    "#     pd = 0.4 * r + 0.4 * g + 0.2 * b\n",
    "#     pd = pd * (1. / 255) - 0.5\n",
    "    pd=rgb * (1. / 255) #- 0.5\n",
    "    return pd\n",
    "\n",
    "def prepareDataArrays(iterator):\n",
    "    X = np.empty((0, 14400))\n",
    "    y = np.empty((0,1))\n",
    "    X_buffer = np.empty((0, 14400))\n",
    "    y_buffer = np.empty((0,1))\n",
    "    \n",
    "    recordCounter = 0;\n",
    "\n",
    "    for string_record in iterator:\n",
    "        recordCounter += 1\n",
    "\n",
    "        example = tf.train.Example()\n",
    "        example.ParseFromString(string_record)\n",
    "        imageString = (example.features.feature['image'].bytes_list.value[0])\n",
    "        label = (example.features.feature['label'].int64_list.value[0])\n",
    "        \n",
    "        image = np.fromstring(imageString, dtype=np.uint8)\n",
    "        image = image.reshape((60, 80, 3))\n",
    "        image = preprocess(image)\n",
    "        image = image.reshape((14400))\n",
    "\n",
    "        X_buffer = np.append(X_buffer, [image], axis=0)\n",
    "        y_buffer = np.append(y_buffer, label)\n",
    "        \n",
    "        if recordCounter % 100 == 0:\n",
    "            print(recordCounter,end = '->')\n",
    "        if recordCounter % 1000 == 0:\n",
    "            print(\"Merging\")\n",
    "            X = np.append(X, [X_buffer])\n",
    "            y = np.append(y, [y_buffer])\n",
    "            X_buffer = np.empty((0, 14400))\n",
    "            y_buffer = np.empty((0,1))\n",
    "    \n",
    "    print(\"Done\")        \n",
    "    X = np.append(X, [X_buffer])\n",
    "    y = np.append(y, y_buffer)\n",
    "    \n",
    "    X = X.reshape((recordCounter, 14400))\n",
    "    y = y.reshape((recordCounter,))\n",
    "    y = np.round(y / 6)\n",
    "    y = y + 7\n",
    "    return X, y"
   ]
  },
  {
   "cell_type": "markdown",
   "metadata": {},
   "source": [
    "# Load the datasets for training "
   ]
  },
  {
   "cell_type": "markdown",
   "metadata": {},
   "source": [
    "## (from tfrecord to RAM)"
   ]
  },
  {
   "cell_type": "code",
   "execution_count": null,
   "metadata": {},
   "outputs": [],
   "source": [
    "trainIterator = tf.python_io.tf_record_iterator(path=\"train.tfrecords\")\n",
    "valIterator = tf.python_io.tf_record_iterator(path=\"val.tfrecords\")\n",
    "\n",
    "print(\"\\nTrain...\")\n",
    "X_train, y_train = prepareDataArrays(trainIterator)\n",
    "print(\"\\nVal...\")\n",
    "X_val, y_val = prepareDataArrays(valIterator)"
   ]
  },
  {
   "cell_type": "markdown",
   "metadata": {},
   "source": [
    "## (from RAM to NPZ file)"
   ]
  },
  {
   "cell_type": "code",
   "execution_count": null,
   "metadata": {},
   "outputs": [],
   "source": [
    "np.savez(\"arrays_01color.npz\", xtr = X_train, ytr = y_train, xval = X_val, yval = y_val)"
   ]
  },
  {
   "cell_type": "markdown",
   "metadata": {},
   "source": [
    "## (from NPZ file to RAM)"
   ]
  },
  {
   "cell_type": "code",
   "execution_count": 2,
   "metadata": {},
   "outputs": [],
   "source": [
    "npRecall = np.load(\"arrays_01color.npz\")\n",
    "X_train = npRecall[\"xtr\"]\n",
    "y_train = npRecall[\"ytr\"]\n",
    "X_val = npRecall[\"xval\"]\n",
    "y_val = npRecall[\"yval\"]"
   ]
  },
  {
   "cell_type": "markdown",
   "metadata": {},
   "source": [
    "## One-hot Encode"
   ]
  },
  {
   "cell_type": "code",
   "execution_count": 3,
   "metadata": {},
   "outputs": [],
   "source": [
    "# (xt, yt), (xv, yv) = mnist.load_data()\n",
    "X_train = X_train.astype('float32')\n",
    "y_train = y_train.astype('uint8')\n",
    "X_val = X_val.astype('float32')\n",
    "y_val = y_val.astype('uint8')\n",
    "y_train = keras.utils.to_categorical(y_train, 15)\n",
    "y_val = keras.utils.to_categorical(y_val, 15)"
   ]
  },
  {
   "cell_type": "markdown",
   "metadata": {},
   "source": [
    "## Define and compile the neural network"
   ]
  },
  {
   "cell_type": "code",
   "execution_count": 5,
   "metadata": {},
   "outputs": [],
   "source": [
    "# model = Sequential()\n",
    "# model.add(Dense(2048, kernel_initializer=\"uniform\", activation=\"relu\", input_dim=14400))\n",
    "# model.add(Dense(1024, kernel_initializer=\"uniform\", activation=\"relu\"))\n",
    "# model.add(Dense(512, kernel_initializer=\"uniform\", activation=\"relu\"))\n",
    "# model.add(Dense(15))\n",
    "# model.add(Activation(\"softmax\"))\n",
    "\n",
    "inputs = Input(shape=(14400,), name='pixels')\n",
    "x = Dense(2048, activation='relu', name='relu1')(inputs)\n",
    "x = Dense(1024, activation='relu', name='relu2')(x)\n",
    "x = Dense(512, activation='relu', name='relu3')(x)\n",
    "predictions = Dense(15, activation='softmax', name='onehot')(x)"
   ]
  },
  {
   "cell_type": "code",
   "execution_count": 6,
   "metadata": {},
   "outputs": [],
   "source": [
    "model = Model(inputs=inputs, outputs=predictions)\n",
    "model.compile(loss=keras.losses.categorical_crossentropy,\n",
    "              optimizer=keras.optimizers.Adam(lr=0.0001, beta_1=0.9, beta_2=0.999, epsilon=1e-08),\n",
    "              metrics=['accuracy'])"
   ]
  },
  {
   "cell_type": "code",
   "execution_count": 8,
   "metadata": {
    "scrolled": false
   },
   "outputs": [
    {
     "name": "stdout",
     "output_type": "stream",
     "text": [
      "Train on 30000 samples, validate on 5000 samples\n",
      "Epoch 1/6\n",
      "30000/30000 [==============================] - 175s 6ms/step - loss: 1.2262 - acc: 0.5408 - val_loss: 1.1405 - val_acc: 0.5722\n",
      "Epoch 2/6\n",
      "30000/30000 [==============================] - 170s 6ms/step - loss: 1.1695 - acc: 0.5563 - val_loss: 1.1176 - val_acc: 0.5612\n",
      "Epoch 3/6\n",
      "30000/30000 [==============================] - 170s 6ms/step - loss: 1.1291 - acc: 0.5683 - val_loss: 1.1370 - val_acc: 0.5628\n",
      "Epoch 4/6\n",
      "30000/30000 [==============================] - 173s 6ms/step - loss: 1.1109 - acc: 0.5783 - val_loss: 1.1377 - val_acc: 0.5724\n",
      "Epoch 5/6\n",
      "30000/30000 [==============================] - 174s 6ms/step - loss: 1.0944 - acc: 0.5793 - val_loss: 1.0623 - val_acc: 0.5860\n",
      "Epoch 6/6\n",
      "30000/30000 [==============================] - 171s 6ms/step - loss: 1.0746 - acc: 0.5857 - val_loss: 1.0848 - val_acc: 0.5846\n"
     ]
    },
    {
     "data": {
      "text/plain": [
       "<keras.callbacks.History at 0x132422fd0>"
      ]
     },
     "execution_count": 8,
     "metadata": {},
     "output_type": "execute_result"
    }
   ],
   "source": [
    "model.fit(X_train, y_train,\n",
    "          batch_size=116,\n",
    "          epochs=6,\n",
    "          verbose=1,\n",
    "          validation_data=(X_val, y_val))"
   ]
  },
  {
   "cell_type": "code",
   "execution_count": 9,
   "metadata": {},
   "outputs": [
    {
     "data": {
      "text/plain": [
       "'{\"backend\": \"tensorflow\", \"class_name\": \"Model\", \"config\": {\"layers\": [{\"inbound_nodes\": [], \"class_name\": \"InputLayer\", \"config\": {\"batch_input_shape\": [null, 14400], \"dtype\": \"float32\", \"sparse\": false, \"name\": \"pixels\"}, \"name\": \"pixels\"}, {\"inbound_nodes\": [[[\"pixels\", 0, 0, {}]]], \"class_name\": \"Dense\", \"config\": {\"kernel_regularizer\": null, \"kernel_initializer\": {\"class_name\": \"VarianceScaling\", \"config\": {\"seed\": null, \"mode\": \"fan_avg\", \"scale\": 1.0, \"distribution\": \"uniform\"}}, \"activation\": \"relu\", \"bias_initializer\": {\"class_name\": \"Zeros\", \"config\": {}}, \"bias_constraint\": null, \"trainable\": true, \"kernel_constraint\": null, \"units\": 2048, \"bias_regularizer\": null, \"activity_regularizer\": null, \"use_bias\": true, \"name\": \"relu1\"}, \"name\": \"relu1\"}, {\"inbound_nodes\": [[[\"relu1\", 0, 0, {}]]], \"class_name\": \"Dense\", \"config\": {\"kernel_regularizer\": null, \"kernel_initializer\": {\"class_name\": \"VarianceScaling\", \"config\": {\"seed\": null, \"mode\": \"fan_avg\", \"scale\": 1.0, \"distribution\": \"uniform\"}}, \"activation\": \"relu\", \"bias_initializer\": {\"class_name\": \"Zeros\", \"config\": {}}, \"bias_constraint\": null, \"trainable\": true, \"kernel_constraint\": null, \"units\": 1024, \"bias_regularizer\": null, \"activity_regularizer\": null, \"use_bias\": true, \"name\": \"relu2\"}, \"name\": \"relu2\"}, {\"inbound_nodes\": [[[\"relu2\", 0, 0, {}]]], \"class_name\": \"Dense\", \"config\": {\"kernel_regularizer\": null, \"kernel_initializer\": {\"class_name\": \"VarianceScaling\", \"config\": {\"seed\": null, \"mode\": \"fan_avg\", \"scale\": 1.0, \"distribution\": \"uniform\"}}, \"activation\": \"relu\", \"bias_initializer\": {\"class_name\": \"Zeros\", \"config\": {}}, \"bias_constraint\": null, \"trainable\": true, \"kernel_constraint\": null, \"units\": 512, \"bias_regularizer\": null, \"activity_regularizer\": null, \"use_bias\": true, \"name\": \"relu3\"}, \"name\": \"relu3\"}, {\"inbound_nodes\": [[[\"relu3\", 0, 0, {}]]], \"class_name\": \"Dense\", \"config\": {\"kernel_regularizer\": null, \"kernel_initializer\": {\"class_name\": \"VarianceScaling\", \"config\": {\"seed\": null, \"mode\": \"fan_avg\", \"scale\": 1.0, \"distribution\": \"uniform\"}}, \"activation\": \"softmax\", \"bias_initializer\": {\"class_name\": \"Zeros\", \"config\": {}}, \"bias_constraint\": null, \"trainable\": true, \"kernel_constraint\": null, \"units\": 15, \"bias_regularizer\": null, \"activity_regularizer\": null, \"use_bias\": true, \"name\": \"onehot\"}, \"name\": \"onehot\"}], \"output_layers\": [[\"onehot\", 0, 0]], \"input_layers\": [[\"pixels\", 0, 0]], \"name\": \"model_1\"}, \"keras_version\": \"2.2.0\"}'"
      ]
     },
     "execution_count": 9,
     "metadata": {},
     "output_type": "execute_result"
    }
   ],
   "source": [
    "model.save_weights('./weights.h5')\n",
    "model.to_json()"
   ]
  },
  {
   "cell_type": "code",
   "execution_count": 2,
   "metadata": {},
   "outputs": [
    {
     "name": "stdout",
     "output_type": "stream",
     "text": [
      "Loaded model from disk\n"
     ]
    }
   ],
   "source": [
    "json_file = open('model.json', 'r')\n",
    "loaded_model_json = json_file.read()\n",
    "json_file.close()\n",
    "model = model_from_json(loaded_model_json)\n",
    "model.load_weights(\"weights.h5\")\n",
    "print(\"Loaded model from disk\")"
   ]
  },
  {
   "cell_type": "code",
   "execution_count": 10,
   "metadata": {},
   "outputs": [],
   "source": [
    "saver = tf.train.Saver()\n",
    "with K.get_session() as sess:\n",
    "    K.set_learning_phase(0)\n",
    "    saver.save(sess, './tfmodel/model')"
   ]
  },
  {
   "cell_type": "code",
   "execution_count": 11,
   "metadata": {},
   "outputs": [
    {
     "data": {
      "image/svg+xml": [
       "<svg height=\"337pt\" viewBox=\"0.00 0.00 127.02 337.00\" width=\"127pt\" xmlns=\"http://www.w3.org/2000/svg\" xmlns:xlink=\"http://www.w3.org/1999/xlink\">\n",
       "<g class=\"graph\" id=\"graph0\" transform=\"scale(1 1) rotate(0) translate(4 333)\">\n",
       "<title>G</title>\n",
       "<polygon fill=\"#ffffff\" points=\"-4,4 -4,-333 123.0244,-333 123.0244,4 -4,4\" stroke=\"transparent\"/>\n",
       "<!-- 4836983696 -->\n",
       "<g class=\"node\" id=\"node1\">\n",
       "<title>4836983696</title>\n",
       "<polygon fill=\"none\" points=\"0,-292.5 0,-328.5 119.0244,-328.5 119.0244,-292.5 0,-292.5\" stroke=\"#000000\"/>\n",
       "<text fill=\"#000000\" font-family=\"Times,serif\" font-size=\"14.00\" text-anchor=\"middle\" x=\"59.5122\" y=\"-306.3\">pixels: InputLayer</text>\n",
       "</g>\n",
       "<!-- 4836983640 -->\n",
       "<g class=\"node\" id=\"node2\">\n",
       "<title>4836983640</title>\n",
       "<polygon fill=\"none\" points=\"15.9414,-219.5 15.9414,-255.5 103.083,-255.5 103.083,-219.5 15.9414,-219.5\" stroke=\"#000000\"/>\n",
       "<text fill=\"#000000\" font-family=\"Times,serif\" font-size=\"14.00\" text-anchor=\"middle\" x=\"59.5122\" y=\"-233.3\">relu1: Dense</text>\n",
       "</g>\n",
       "<!-- 4836983696&#45;&gt;4836983640 -->\n",
       "<g class=\"edge\" id=\"edge1\">\n",
       "<title>4836983696-&gt;4836983640</title>\n",
       "<path d=\"M59.5122,-292.4551C59.5122,-284.3828 59.5122,-274.6764 59.5122,-265.6817\" fill=\"none\" stroke=\"#000000\"/>\n",
       "<polygon fill=\"#000000\" points=\"63.0123,-265.5903 59.5122,-255.5904 56.0123,-265.5904 63.0123,-265.5903\" stroke=\"#000000\"/>\n",
       "</g>\n",
       "<!-- 4836984088 -->\n",
       "<g class=\"node\" id=\"node3\">\n",
       "<title>4836984088</title>\n",
       "<polygon fill=\"none\" points=\"15.9414,-146.5 15.9414,-182.5 103.083,-182.5 103.083,-146.5 15.9414,-146.5\" stroke=\"#000000\"/>\n",
       "<text fill=\"#000000\" font-family=\"Times,serif\" font-size=\"14.00\" text-anchor=\"middle\" x=\"59.5122\" y=\"-160.3\">relu2: Dense</text>\n",
       "</g>\n",
       "<!-- 4836983640&#45;&gt;4836984088 -->\n",
       "<g class=\"edge\" id=\"edge2\">\n",
       "<title>4836983640-&gt;4836984088</title>\n",
       "<path d=\"M59.5122,-219.4551C59.5122,-211.3828 59.5122,-201.6764 59.5122,-192.6817\" fill=\"none\" stroke=\"#000000\"/>\n",
       "<polygon fill=\"#000000\" points=\"63.0123,-192.5903 59.5122,-182.5904 56.0123,-192.5904 63.0123,-192.5903\" stroke=\"#000000\"/>\n",
       "</g>\n",
       "<!-- 4836984536 -->\n",
       "<g class=\"node\" id=\"node4\">\n",
       "<title>4836984536</title>\n",
       "<polygon fill=\"none\" points=\"15.9414,-73.5 15.9414,-109.5 103.083,-109.5 103.083,-73.5 15.9414,-73.5\" stroke=\"#000000\"/>\n",
       "<text fill=\"#000000\" font-family=\"Times,serif\" font-size=\"14.00\" text-anchor=\"middle\" x=\"59.5122\" y=\"-87.3\">relu3: Dense</text>\n",
       "</g>\n",
       "<!-- 4836984088&#45;&gt;4836984536 -->\n",
       "<g class=\"edge\" id=\"edge3\">\n",
       "<title>4836984088-&gt;4836984536</title>\n",
       "<path d=\"M59.5122,-146.4551C59.5122,-138.3828 59.5122,-128.6764 59.5122,-119.6817\" fill=\"none\" stroke=\"#000000\"/>\n",
       "<polygon fill=\"#000000\" points=\"63.0123,-119.5903 59.5122,-109.5904 56.0123,-119.5904 63.0123,-119.5903\" stroke=\"#000000\"/>\n",
       "</g>\n",
       "<!-- 4836986776 -->\n",
       "<g class=\"node\" id=\"node5\">\n",
       "<title>4836986776</title>\n",
       "<polygon fill=\"none\" points=\"11.2725,-.5 11.2725,-36.5 107.752,-36.5 107.752,-.5 11.2725,-.5\" stroke=\"#000000\"/>\n",
       "<text fill=\"#000000\" font-family=\"Times,serif\" font-size=\"14.00\" text-anchor=\"middle\" x=\"59.5122\" y=\"-14.3\">onehot: Dense</text>\n",
       "</g>\n",
       "<!-- 4836984536&#45;&gt;4836986776 -->\n",
       "<g class=\"edge\" id=\"edge4\">\n",
       "<title>4836984536-&gt;4836986776</title>\n",
       "<path d=\"M59.5122,-73.4551C59.5122,-65.3828 59.5122,-55.6764 59.5122,-46.6817\" fill=\"none\" stroke=\"#000000\"/>\n",
       "<polygon fill=\"#000000\" points=\"63.0123,-46.5903 59.5122,-36.5904 56.0123,-46.5904 63.0123,-46.5903\" stroke=\"#000000\"/>\n",
       "</g>\n",
       "</g>\n",
       "</svg>"
      ],
      "text/plain": [
       "<IPython.core.display.SVG object>"
      ]
     },
     "execution_count": 11,
     "metadata": {},
     "output_type": "execute_result"
    }
   ],
   "source": [
    "SVG(model_to_dot(model).create(prog='dot', format='svg'))"
   ]
  },
  {
   "cell_type": "code",
   "execution_count": null,
   "metadata": {},
   "outputs": [],
   "source": []
  }
 ],
 "metadata": {
  "kernelspec": {
   "display_name": "Python 3",
   "language": "python",
   "name": "python3"
  },
  "language_info": {
   "codemirror_mode": {
    "name": "ipython",
    "version": 3
   },
   "file_extension": ".py",
   "mimetype": "text/x-python",
   "name": "python",
   "nbconvert_exporter": "python",
   "pygments_lexer": "ipython3",
   "version": "3.5.5"
  }
 },
 "nbformat": 4,
 "nbformat_minor": 2
}
